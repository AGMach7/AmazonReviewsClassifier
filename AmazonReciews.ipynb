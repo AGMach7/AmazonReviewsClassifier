{
 "cells": [
  {
   "attachments": {},
   "cell_type": "markdown",
   "metadata": {},
   "source": [
    "<h1 style=\"color:red; text-align:center; font-weight:bold\"> Amazon Reviews Classification </h1>"
   ]
  },
  {
   "cell_type": "markdown",
   "metadata": {},
   "source": [
    "<h3 style=\"color:green\"> Prepare the environment: </h3>"
   ]
  },
  {
   "attachments": {},
   "cell_type": "markdown",
   "metadata": {},
   "source": [
    "First, we should prepare the environment, by running `findspark.init()`, we make it possible to use the PySpark API, which is the Python API for Spark, and access Spark's distributed computing capabilities from within your Python environment."
   ]
  },
  {
   "cell_type": "code",
   "execution_count": 1,
   "metadata": {},
   "outputs": [],
   "source": [
    "import findspark\n",
    "findspark.init()"
   ]
  },
  {
   "attachments": {},
   "cell_type": "markdown",
   "metadata": {},
   "source": [
    "Let's import necessary modules and classes."
   ]
  },
  {
   "cell_type": "code",
   "execution_count": 2,
   "metadata": {},
   "outputs": [],
   "source": [
    "import pandas as pd\n",
    "import numpy as np\n",
    "import functools\n",
    "import os\n",
    "import re\n",
    "from matplotlib import pyplot as plt\n",
    "\n",
    "import pyspark\n",
    "from pyspark import SparkContext\n",
    "\n",
    "from pyspark.sql import SparkSession, SQLContext\n",
    "\n",
    "from pyspark.sql.functions import input_file_name, lit\n",
    "from pyspark.sql.functions import UserDefinedFunction\n",
    "from pyspark.sql.functions import shuffle, rand, col, sum\n",
    "from pyspark.sql.functions import pandas_udf\n",
    "\n",
    "from pyspark.sql.types import StringType, StructField, StructType\n",
    "from pyspark.sql.types import IntegerType, ArrayType, FloatType\n",
    "\n",
    "from pyspark.ml import Pipeline\n",
    "\n",
    "from pyspark.ml.classification import LogisticRegression, RandomForestClassifier\n",
    "\n",
    "from pyspark.ml.feature import HashingTF, Tokenizer, StopWordsRemover\n",
    "from pyspark.ml.feature import Tokenizer, Word2Vec, VectorIndexer\n",
    "from pyspark.ml.feature import IndexToString, StringIndexer, VectorAssembler\n",
    "\n",
    "from pyspark.ml.tuning import ParamGridBuilder, CrossValidator\n",
    "\n",
    "from pyspark.ml.evaluation import BinaryClassificationEvaluator\n",
    "from pyspark.ml.evaluation import MulticlassClassificationEvaluator\n",
    "\n",
    "from pyspark.mllib.evaluation import BinaryClassificationMetrics\n",
    "\n",
    "%matplotlib inline"
   ]
  },
  {
   "attachments": {},
   "cell_type": "markdown",
   "metadata": {},
   "source": [
    "Create a SparkSession object, with some special configuration that we'll need later. "
   ]
  },
  {
   "cell_type": "code",
   "execution_count": 4,
   "metadata": {},
   "outputs": [
    {
     "name": "stderr",
     "output_type": "stream",
     "text": [
      "C:\\spark\\spark-3.3.1-bin-hadoop2\\python\\pyspark\\sql\\context.py:112: FutureWarning: Deprecated in 3.0.0. Use SparkSession.builder.getOrCreate() instead.\n",
      "  warnings.warn(\n"
     ]
    }
   ],
   "source": [
    "spark = SparkSession.builder \\\n",
    "    .appName(\"Project 2\") \\\n",
    "    .master(\"local[*]\") \\\n",
    "    .config(\"spark.driver.memory\", \"8g\") \\\n",
    "    .config(\"spark.executor.memory\", \"8g\") \\\n",
    "    .getOrCreate()\n",
    "\n",
    "sqlContext = SQLContext(spark)"
   ]
  },
  {
   "cell_type": "markdown",
   "metadata": {},
   "source": [
    "Initializing the data paths"
   ]
  },
  {
   "cell_type": "code",
   "execution_count": 6,
   "metadata": {},
   "outputs": [],
   "source": [
    "movies_path = \"Movies_and_TV.json\"\n",
    "meta_path = \"meta_Movies_and_TV.json\""
   ]
  },
  {
   "cell_type": "markdown",
   "metadata": {},
   "source": [
    "<h3 style=\"color:green\"> Import Data: </h3>"
   ]
  },
  {
   "attachments": {},
   "cell_type": "markdown",
   "metadata": {},
   "source": [
    "Our data is a __json__ file, in this section we'll read the data, print the dataframe schema, and then take a look on the data"
   ]
  },
  {
   "cell_type": "code",
   "execution_count": 7,
   "metadata": {},
   "outputs": [
    {
     "name": "stdout",
     "output_type": "stream",
     "text": [
      "root\n",
      " |-- asin: string (nullable = true)\n",
      " |-- image: array (nullable = true)\n",
      " |    |-- element: string (containsNull = true)\n",
      " |-- overall: double (nullable = true)\n",
      " |-- reviewText: string (nullable = true)\n",
      " |-- reviewTime: string (nullable = true)\n",
      " |-- reviewerID: string (nullable = true)\n",
      " |-- reviewerName: string (nullable = true)\n",
      " |-- style: struct (nullable = true)\n",
      " |    |-- Color:: string (nullable = true)\n",
      " |    |-- Format:: string (nullable = true)\n",
      " |    |-- Shape:: string (nullable = true)\n",
      " |    |-- Size:: string (nullable = true)\n",
      " |-- summary: string (nullable = true)\n",
      " |-- unixReviewTime: long (nullable = true)\n",
      " |-- verified: boolean (nullable = true)\n",
      " |-- vote: string (nullable = true)\n",
      "\n"
     ]
    }
   ],
   "source": [
    "df = spark.read.json(movies_path)\n",
    "\n",
    "df.printSchema()"
   ]
  },
  {
   "attachments": {},
   "cell_type": "markdown",
   "metadata": {},
   "source": [
    "It looks like we have some sup-columns, let's split the '`style`' and '`image`' columns into individual columns."
   ]
  },
  {
   "cell_type": "code",
   "execution_count": 8,
   "metadata": {},
   "outputs": [
    {
     "name": "stdout",
     "output_type": "stream",
     "text": [
      "+----------+-----+-------+-------+--------------------+-----------+--------------+--------------------+-----+-------------+-----+----+--------------------+--------------+--------+----+\n",
      "|      asin|image|element|overall|          reviewText| reviewTime|    reviewerID|        reviewerName|color|       format|shape|size|             summary|unixReviewTime|verified|vote|\n",
      "+----------+-----+-------+-------+--------------------+-----------+--------------+--------------------+-----+-------------+-----+----+--------------------+--------------+--------+----+\n",
      "|0001527665| null|   null|    5.0|really happy they...|03 11, 2013|A3478QRKQDOPQ2|               jacki| null|     VHS Tape| null|null|               great|    1362960000|    true|null|\n",
      "|0001527665| null|   null|    5.0|Having lived in W...|02 18, 2013|A2VHSG6TZHU1OB|               Ken P| null| Amazon Video| null|null|Realistic and Acc...|    1361145600|    true|   3|\n",
      "|0001527665| null|   null|    5.0|Excellent look in...|01 17, 2013|A23EJWOW1TLENE|       Reina Berumen| null| Amazon Video| null|null|         Peace Child|    1358380800|   false|null|\n",
      "|0001527665| null|   null|    5.0|More than anythin...|01 10, 2013|A1KM9FNEJ8Q171|             N Coyle| null| Amazon Video| null|null|Culturally releva...|    1357776000|    true|null|\n",
      "|0001527665| null|   null|    4.0|This is a great m...|12 26, 2012|A38LY2SSHVHRYB|        Jodie Vesely| null| Amazon Video| null|null|Good Movie! Great...|    1356480000|    true|null|\n",
      "|0001527665| null|   null|    5.0|This movie was in...|11 16, 2012| AHTYUW2H1276L|         lilsistah21| null| Amazon Video| null|null|           Great....|    1353024000|    true|   3|\n",
      "|0001527665| null|   null|    5.0|This is a fascina...|07 15, 2012|A3M3HCZLXW0YLF|               Carla| null| Amazon Video| null|null|A remarkable true...|    1342310400|    true|   4|\n",
      "|0001527665| null|   null|    1.0|This DVD appears ...| 09 3, 2010|A1OMHX76O2NC6V|       Richard Ellis| null| Amazon Video| null|null|     Peace Child DVD|    1283472000|    true|null|\n",
      "|0001527665| null|   null|    1.0|This movie is not...| 05 7, 2010|A3OBOZ41IK6O1M|                Adam| null| Amazon Video| null|null|      Not in English|    1273190400|    true|null|\n",
      "|0005089549| null|   null|    5.0|So sorry I didn't...| 11 9, 2012|A2M1CU2IRZG0K9|               Terri| null|     VHS Tape| null|null|            Amazing!|    1352419200|    true|null|\n",
      "|0005089549| null|   null|    5.0|Product received ...|09 11, 2012|A1XIXLXK9B4DAJ|               MMnMM| null|     Audio CD| null|null|A Reunion by Cath...|    1347321600|    true|null|\n",
      "|0005089549| null|   null|    5.0|Believe me when I...|12 30, 2011| AFTUJYISOFHY6|Melissa D. Abercr...| null|     VHS Tape| null|null|Great Gospel VHS ...|    1325203200|    true|null|\n",
      "|0005089549| null|   null|    5.0|This video arrive...| 04 2, 2011| AEIAQFCWNRUSE|          pastorgreg| null|     VHS Tape| null|null|Reunion The Cathe...|    1301702400|    true|null|\n",
      "|0005089549| null|   null|    5.0|The Reunion of th...|06 27, 2010|A16WO8T4YXGVWP|          teacherdan| null|     VHS Tape| null|null|Reunion - A Video...|    1277596800|   false|   2|\n",
      "|0005089549| null|   null|    5.0|Wedding Music (3:...|04 21, 2009| AX7ANRP31Q7YA|       Jupiter Child| null|     Audio CD| null|null|   Track Listings!!!|    1240272000|   false|   6|\n",
      "|0005089549| null|   null|    5.0|This is truly a m...| 08 7, 1999| AIPN1XFK37ZWI|bcriner@ozarkmoun...| null|     VHS Tape| null|null|Great video-Super...|     933984000|   false|  20|\n",
      "|000503860X| null|   null|    4.0|It is an excellen...|08 13, 2005| A7H20K09VIXXT|      hairy back guy| null|          DVD| null|null|That Billy Zoom S...|    1123891200|   false|  10|\n",
      "|000503860X| null|   null|    5.0|I have a thing ag...| 08 6, 2005|A2LGI22B6XRZVA|          E. H. Lose| null|          DVD| null|null|  Couldn't be better|    1123286400|    true|   9|\n",
      "|000503860X| null|   null|    5.0|This DVD is unbel...|05 18, 2005|A2A4GWAEM3VOW0|           N. Poulos| null|          DVD| null|null|   Worth Every Penny|    1116374400|   false|   8|\n",
      "|000503860X| null|   null|    5.0|Just brought this...|05 13, 2005|A226BMXAQAJVOQ|            D. Nixon| null|          DVD| null|null|X hasn't lost a step|    1115942400|    true|   9|\n",
      "+----------+-----+-------+-------+--------------------+-----------+--------------+--------------------+-----+-------------+-----+----+--------------------+--------------+--------+----+\n",
      "only showing top 20 rows\n",
      "\n"
     ]
    }
   ],
   "source": [
    "df = df.select(\n",
    "    col(\"asin\"),\n",
    "    col(\"image\"),\n",
    "    col(\"image\").getItem(0).alias(\"element\"),\n",
    "    col(\"overall\"),\n",
    "    col(\"reviewText\"),\n",
    "    col(\"reviewTime\"),\n",
    "    col(\"reviewerID\"),\n",
    "    col(\"reviewerName\"),\n",
    "    col(\"style\").getField(\"Color:\").alias(\"color\"),\n",
    "    col(\"style\").getField(\"Format:\").alias(\"format\"),\n",
    "    col(\"style\").getField(\"Shape:\").alias(\"shape\"),\n",
    "    col(\"style\").getField(\"Size:\").alias(\"size\"),\n",
    "    col(\"summary\"),\n",
    "    col(\"unixReviewTime\"),\n",
    "    col(\"verified\"),\n",
    "    col(\"vote\")\n",
    ")\n",
    "\n",
    "df.show()"
   ]
  },
  {
   "attachments": {},
   "cell_type": "markdown",
   "metadata": {},
   "source": [
    "Since we have reviews classification, from now we'll use just the `overall` column (the target), and the `reviewText` column (input)"
   ]
  },
  {
   "cell_type": "code",
   "execution_count": 11,
   "metadata": {},
   "outputs": [
    {
     "name": "stdout",
     "output_type": "stream",
     "text": [
      "+-------+--------------------+\n",
      "|overall|          reviewText|\n",
      "+-------+--------------------+\n",
      "|    5.0|really happy they...|\n",
      "|    5.0|Having lived in W...|\n",
      "|    5.0|Excellent look in...|\n",
      "|    5.0|More than anythin...|\n",
      "|    4.0|This is a great m...|\n",
      "|    5.0|This movie was in...|\n",
      "|    5.0|This is a fascina...|\n",
      "|    1.0|This DVD appears ...|\n",
      "|    1.0|This movie is not...|\n",
      "|    5.0|So sorry I didn't...|\n",
      "|    5.0|Product received ...|\n",
      "|    5.0|Believe me when I...|\n",
      "|    5.0|This video arrive...|\n",
      "|    5.0|The Reunion of th...|\n",
      "|    5.0|Wedding Music (3:...|\n",
      "|    5.0|This is truly a m...|\n",
      "|    4.0|It is an excellen...|\n",
      "|    5.0|I have a thing ag...|\n",
      "|    5.0|This DVD is unbel...|\n",
      "|    5.0|Just brought this...|\n",
      "+-------+--------------------+\n",
      "only showing top 20 rows\n",
      "\n"
     ]
    }
   ],
   "source": [
    "data = df.select(\"overall\", \"reviewText\")\n",
    "\n",
    "data.show()"
   ]
  },
  {
   "attachments": {},
   "cell_type": "markdown",
   "metadata": {},
   "source": [
    "Let's now read the second json file."
   ]
  },
  {
   "cell_type": "code",
   "execution_count": 10,
   "metadata": {},
   "outputs": [
    {
     "name": "stdout",
     "output_type": "stream",
     "text": [
      "root\n",
      " |-- also_buy: array (nullable = true)\n",
      " |    |-- element: string (containsNull = true)\n",
      " |-- also_view: array (nullable = true)\n",
      " |    |-- element: string (containsNull = true)\n",
      " |-- asin: string (nullable = true)\n",
      " |-- brand: string (nullable = true)\n",
      " |-- category: array (nullable = true)\n",
      " |    |-- element: string (containsNull = true)\n",
      " |-- date: string (nullable = true)\n",
      " |-- description: array (nullable = true)\n",
      " |    |-- element: string (containsNull = true)\n",
      " |-- details: struct (nullable = true)\n",
      " |    |-- \\n    Item Weight: \\n    : string (nullable = true)\n",
      " |    |-- \\n    Package Dimensions: \\n    : string (nullable = true)\n",
      " |    |-- \\n    Product Dimensions: \\n    : string (nullable = true)\n",
      " |    |-- ASIN:: string (nullable = true)\n",
      " |    |-- ASIN: : string (nullable = true)\n",
      " |    |-- Audio CD: string (nullable = true)\n",
      " |    |-- Audio Description:: string (nullable = true)\n",
      " |    |-- Blu-ray Audio: string (nullable = true)\n",
      " |    |-- DVD Audio: string (nullable = true)\n",
      " |    |-- Digital Copy Expiration Date:: string (nullable = true)\n",
      " |    |-- Domestic Shipping: : string (nullable = true)\n",
      " |    |-- Dubbed:: string (nullable = true)\n",
      " |    |-- ISBN-10:: string (nullable = true)\n",
      " |    |-- ISBN-13:: string (nullable = true)\n",
      " |    |-- International Shipping: : string (nullable = true)\n",
      " |    |-- Item model number:: string (nullable = true)\n",
      " |    |-- Label:: string (nullable = true)\n",
      " |    |-- Language:: string (nullable = true)\n",
      " |    |-- Number of Discs:: string (nullable = true)\n",
      " |    |-- Please Note:: string (nullable = true)\n",
      " |    |-- Publisher:: string (nullable = true)\n",
      " |    |-- Run Time:: string (nullable = true)\n",
      " |    |-- SPARS Code:: string (nullable = true)\n",
      " |    |-- Series:: string (nullable = true)\n",
      " |    |-- Shipping Weight:: string (nullable = true)\n",
      " |    |-- Subtitles for the Hearing Impaired:: string (nullable = true)\n",
      " |    |-- Subtitles:: string (nullable = true)\n",
      " |    |-- UPC:: string (nullable = true)\n",
      " |-- feature: array (nullable = true)\n",
      " |    |-- element: string (containsNull = true)\n",
      " |-- fit: string (nullable = true)\n",
      " |-- imageURL: array (nullable = true)\n",
      " |    |-- element: string (containsNull = true)\n",
      " |-- imageURLHighRes: array (nullable = true)\n",
      " |    |-- element: string (containsNull = true)\n",
      " |-- main_cat: string (nullable = true)\n",
      " |-- price: string (nullable = true)\n",
      " |-- rank: string (nullable = true)\n",
      " |-- similar_item: string (nullable = true)\n",
      " |-- tech1: string (nullable = true)\n",
      " |-- tech2: string (nullable = true)\n",
      " |-- title: string (nullable = true)\n",
      "\n"
     ]
    }
   ],
   "source": [
    "df2 = spark.read.json(meta_path)\n",
    "\n",
    "df2.printSchema()"
   ]
  },
  {
   "attachments": {},
   "cell_type": "markdown",
   "metadata": {},
   "source": [
    "It looks like this file contains just some informations about the 'movies', we don't need this data rigth now."
   ]
  },
  {
   "attachments": {},
   "cell_type": "markdown",
   "metadata": {},
   "source": [
    "We need to know more about the data, the `describe` method will display a summary about our data"
   ]
  },
  {
   "cell_type": "code",
   "execution_count": 12,
   "metadata": {},
   "outputs": [
    {
     "name": "stdout",
     "output_type": "stream",
     "text": [
      "+-------+------------------+--------------------+\n",
      "|summary|           overall|          reviewText|\n",
      "+-------+------------------+--------------------+\n",
      "|  count|           8765568|             8757545|\n",
      "|   mean|4.2330105704501975|1.598661428074902...|\n",
      "| stddev|1.2214384170934065|3.876540716161416E20|\n",
      "|    min|               1.0|                  \\n|\n",
      "|    max|               5.0|great show! I th...|\n",
      "+-------+------------------+--------------------+\n",
      "\n"
     ]
    }
   ],
   "source": [
    "data.describe().show()"
   ]
  },
  {
   "attachments": {},
   "cell_type": "markdown",
   "metadata": {},
   "source": [
    "As we can see, there is some null values in the `reviewText`, let's count how much nulls we have:"
   ]
  },
  {
   "cell_type": "code",
   "execution_count": 13,
   "metadata": {},
   "outputs": [
    {
     "name": "stdout",
     "output_type": "stream",
     "text": [
      "+-------+----------+\n",
      "|overall|reviewText|\n",
      "+-------+----------+\n",
      "|      0|      8023|\n",
      "+-------+----------+\n",
      "\n"
     ]
    }
   ],
   "source": [
    "null_counts = data.select([sum(col(c).isNull().cast(\"int\")).alias(c) for c in data.columns])\n",
    "\n",
    "null_counts.show()"
   ]
  },
  {
   "attachments": {},
   "cell_type": "markdown",
   "metadata": {},
   "source": [
    "There is `8023` null values we should dealing with. We'll apply the simplest approach: remove all those rows with null values:"
   ]
  },
  {
   "cell_type": "code",
   "execution_count": 14,
   "metadata": {},
   "outputs": [
    {
     "name": "stdout",
     "output_type": "stream",
     "text": [
      "+-------+----------+\n",
      "|overall|reviewText|\n",
      "+-------+----------+\n",
      "|      0|         0|\n",
      "+-------+----------+\n",
      "\n"
     ]
    }
   ],
   "source": [
    "data = data.na.drop()\n",
    "\n",
    "null_counts = data.select([sum(col(c).isNull().cast(\"int\")).alias(c) for c in data.columns])\n",
    "\n",
    "null_counts.show()"
   ]
  },
  {
   "attachments": {},
   "cell_type": "markdown",
   "metadata": {},
   "source": [
    "Well done!\n",
    "\n",
    "Let's now move to the `overall` column, it represent the target of the model. First think to do is to check number of classes:"
   ]
  },
  {
   "cell_type": "code",
   "execution_count": 15,
   "metadata": {},
   "outputs": [
    {
     "name": "stderr",
     "output_type": "stream",
     "text": [
      "C:\\spark\\spark-3.3.1-bin-hadoop2\\python\\pyspark\\sql\\dataframe.py:229: FutureWarning: Deprecated in 2.0, use createOrReplaceTempView instead.\n",
      "  warnings.warn(\"Deprecated in 2.0, use createOrReplaceTempView instead.\", FutureWarning)\n"
     ]
    },
    {
     "name": "stdout",
     "output_type": "stream",
     "text": [
      "+-------+-----------+\n",
      "|overall|reviewCount|\n",
      "+-------+-----------+\n",
      "|    5.0|    5485404|\n",
      "|    4.0|    1496901|\n",
      "|    3.0|     735630|\n",
      "|    2.0|     406753|\n",
      "|    1.0|     632857|\n",
      "+-------+-----------+\n",
      "\n"
     ]
    }
   ],
   "source": [
    "data.registerTempTable('reviews')\n",
    "sqlContext\\\n",
    "    .sql(\"select overall, count(overall) as reviewCount from reviews group by overall order by overall desc\")\\\n",
    "        .show()"
   ]
  },
  {
   "attachments": {},
   "cell_type": "markdown",
   "metadata": {},
   "source": [
    "From now, instead of using 5 classes, we'll just use 3:\n",
    "  - class `1` for reviews with rating (overall) > 3, this class will represente the __positive__ reviews.\n",
    "  - class `0` for reviews with rating = 3, this class will represente the __neutral__ reviews.\n",
    "  - and the `-1` class, the __negatif__ class, it's the reviews with rating < 3."
   ]
  },
  {
   "cell_type": "code",
   "execution_count": 16,
   "metadata": {},
   "outputs": [],
   "source": [
    "udf = UserDefinedFunction(\n",
    "    lambda x: 1 if x > 3.0 \n",
    "    else 0 if x==3 \n",
    "    else -1, \n",
    "    IntegerType()\n",
    ")\n",
    "\n",
    "data = data.withColumn(\"overall_recode\", udf(data.overall))"
   ]
  },
  {
   "cell_type": "code",
   "execution_count": 17,
   "metadata": {},
   "outputs": [
    {
     "name": "stdout",
     "output_type": "stream",
     "text": [
      "+--------------+-------+\n",
      "|overall_recode|  count|\n",
      "+--------------+-------+\n",
      "|            -1|1039610|\n",
      "|             0| 735630|\n",
      "|             1|6982305|\n",
      "+--------------+-------+\n",
      "\n"
     ]
    }
   ],
   "source": [
    "review_counts = data.groupBy('overall_recode').count().orderBy('overall_recode')\n",
    "review_counts.show()"
   ]
  },
  {
   "attachments": {},
   "cell_type": "markdown",
   "metadata": {},
   "source": [
    "Let's generate a bar plot to visualize the distribution of counts for each unique value in the '`overall_recode`' column."
   ]
  },
  {
   "cell_type": "code",
   "execution_count": 16,
   "metadata": {},
   "outputs": [
    {
     "data": {
      "text/plain": [
       "([<matplotlib.axis.XTick at 0x23b6fa39660>,\n",
       "  <matplotlib.axis.XTick at 0x23b6fa39630>,\n",
       "  <matplotlib.axis.XTick at 0x23b6fa39270>],\n",
       " [Text(0, 0, '-1'), Text(1, 0, '1'), Text(2, 0, '0')])"
      ]
     },
     "execution_count": 16,
     "metadata": {},
     "output_type": "execute_result"
    },
    {
     "data": {
      "image/png": "[encoded data removed]",
      "text/plain": [
       "<Figure size 1500x600 with 1 Axes>"
      ]
     },
     "metadata": {},
     "output_type": "display_data"
    }
   ],
   "source": [
    "plt.rcParams['figure.figsize'] = (15, 6)\n",
    " \n",
    "statuses = data.groupBy('overall_recode').count().collect()\n",
    "\n",
    "categories = [i[0] for i in statuses]\n",
    "counts = [i[1] for i in statuses]\n",
    " \n",
    "ind = np.array(range(len(categories)))\n",
    "width = 0.35\n",
    "plt.bar(ind, counts, width=width, color='b')\n",
    " \n",
    "plt.ylabel('counts')\n",
    "plt.title('distribution')\n",
    "plt.xticks(ind, categories)"
   ]
  },
  {
   "attachments": {},
   "cell_type": "markdown",
   "metadata": {},
   "source": [
    "<h3 style=\"color:green\"> Process Data <h3>"
   ]
  },
  {
   "attachments": {},
   "cell_type": "markdown",
   "metadata": {},
   "source": [
    "The dataset has almost 10 millions of rows, this number is too big to handle with, with our computers, so we'll use just 1 million rows:"
   ]
  },
  {
   "cell_type": "code",
   "execution_count": 20,
   "metadata": {},
   "outputs": [],
   "source": [
    "data_1M = data.limit(1000000)"
   ]
  },
  {
   "attachments": {},
   "cell_type": "markdown",
   "metadata": {},
   "source": [
    "For this task we need the numerical representation of each word in each row, so that's what we'll do:\n",
    "\n",
    "```shell\n",
    "  Tokenizer   -->   StopWordsRemover   -->   Word2Vec\n",
    "      |                     |                    |\n",
    " convert data      remove stopwords        generate word\n",
    "  to tokens                                embedding of\n",
    "                                            each word\n",
    "```\n",
    "\n",
    "For that, we'll create a __Tokenizer__ object named _tokenizer_ with the input column \"reviewText\" and the output column named \"words\".\n",
    "\n",
    "Create a __StopWordsRemover__ object named _stopwords\\_remover_ with the input column set to the output column of the _tokenizer_ object and the output column named \"filtered_words\".\n",
    "\n",
    "Create a __Word2Vec__ object named _word2Vec_ with the input column set to the output column of the _stopwords\\_remover_ object and the output column named \"features\"."
   ]
  },
  {
   "attachments": {},
   "cell_type": "markdown",
   "metadata": {},
   "source": [
    "```\n",
    "           |\n",
    "           | inputCol: reviewText\n",
    "           |\n",
    "\n",
    "       Tokenizer    \n",
    "\n",
    "           |\n",
    "           | outputCol: words\n",
    "           |\n",
    "\n",
    "   StopWordsRemover \n",
    "\n",
    "           |\n",
    "           | outputCol: filtered_words\n",
    "           |\n",
    "\n",
    "       Word2Vec   \n",
    "\n",
    "           |\n",
    "           | outputCol: features\n",
    "           |"
   ]
  },
  {
   "cell_type": "code",
   "execution_count": 21,
   "metadata": {},
   "outputs": [],
   "source": [
    "tokenizer = Tokenizer(inputCol=\"reviewText\", outputCol=\"words\")\n",
    "stopwords_remover = StopWordsRemover(inputCol=tokenizer.getOutputCol(), outputCol=\"filtered_words\")\n",
    "word2vec = Word2Vec(vectorSize=300, seed=42, inputCol=stopwords_remover.getOutputCol(), outputCol=\"features\")"
   ]
  },
  {
   "attachments": {},
   "cell_type": "markdown",
   "metadata": {},
   "source": [
    "Apply the functions to the data:"
   ]
  },
  {
   "cell_type": "code",
   "execution_count": 22,
   "metadata": {},
   "outputs": [],
   "source": [
    "toknezed_data = tokenizer.transform(data_1M)\n",
    "filtered_data = stopwords_remover.transform(toknezed_data)\n",
    "final_data = word2vec.fit(filtered_data).transform(filtered_data)"
   ]
  },
  {
   "attachments": {},
   "cell_type": "markdown",
   "metadata": {},
   "source": [
    "Now, after processing the data, we'll split the data to training dataset and test dataset:"
   ]
  },
  {
   "cell_type": "code",
   "execution_count": 23,
   "metadata": {},
   "outputs": [],
   "source": [
    "(trainingData, testData) = final_data.randomSplit([0.8, 0.2], seed=42)"
   ]
  },
  {
   "attachments": {},
   "cell_type": "markdown",
   "metadata": {},
   "source": [
    "<h3 style=\"color:green\"> Build the Model <h3>"
   ]
  },
  {
   "attachments": {},
   "cell_type": "markdown",
   "metadata": {},
   "source": [
    "Define the stages for the Pipeline: first the target column \"`overall_recode`\" is _indexed_ to prepare it for classification. The indexed features are further processed using a _VectorIndexer_, which assigns indices to categorical features. The indexed features are _assembled_ into a single feature vector. Finally, the pipeline applies a chosen _classifier_ (__LogisticRegression__, __RandomForestClassifier__) to train the model and make predictions on the target variable."
   ]
  },
  {
   "cell_type": "code",
   "execution_count": 24,
   "metadata": {},
   "outputs": [],
   "source": [
    "label_indexer = StringIndexer(inputCol=\"overall_recode\", outputCol=\"indexedLabel\")\n",
    "feature_indexer = VectorIndexer(inputCol=word2vec.getOutputCol(), outputCol=\"indexedFeatures\", maxCategories=5)\n",
    "assembler = VectorAssembler(inputCols=[feature_indexer.getOutputCol()], outputCol=\"feature_vector\")\n",
    "\n",
    "classifiers = [\n",
    "    LogisticRegression(labelCol=\"indexedLabel\", featuresCol=\"feature_vector\"),\n",
    "    RandomForestClassifier(labelCol=\"indexedLabel\", featuresCol=\"feature_vector\")\n",
    "]"
   ]
  },
  {
   "attachments": {},
   "cell_type": "markdown",
   "metadata": {},
   "source": [
    "```\n",
    "           |\n",
    "           | inputCol: features\n",
    "           |\n",
    "\n",
    "     StringIndexer  \n",
    "\n",
    "           |\n",
    "           | outputCol: indexedLabel\n",
    "           |\n",
    "\n",
    "    VectorIndexer \n",
    "\n",
    "           |\n",
    "           | outputCol: indexedFeatures\n",
    "           |\n",
    "\n",
    "     VectorAssembler \n",
    "\n",
    "           |\n",
    "           | outputCol: feature_vector\n",
    "           |\n",
    "\n",
    "      Classifier  "
   ]
  },
  {
   "attachments": {},
   "cell_type": "markdown",
   "metadata": {},
   "source": [
    "Final thing to do before training the model is to define the evaluator, in our case we'll use a __Multiclass Classification Evaluator__"
   ]
  },
  {
   "cell_type": "code",
   "execution_count": 25,
   "metadata": {},
   "outputs": [],
   "source": [
    "evaluator = MulticlassClassificationEvaluator(\n",
    "    labelCol=\"indexedLabel\", \n",
    "    predictionCol=\"prediction\", \n",
    "    metricName=\"accuracy\"\n",
    "    )"
   ]
  },
  {
   "attachments": {},
   "cell_type": "markdown",
   "metadata": {},
   "source": [
    "<h3 style=\"color:green\"> Train and evaluate <h3>"
   ]
  },
  {
   "cell_type": "code",
   "execution_count": 26,
   "metadata": {},
   "outputs": [],
   "source": [
    "results = []\n",
    "\n",
    "for i, classifier in enumerate(classifiers):\n",
    "    pipeline = Pipeline(stages=[\n",
    "        label_indexer, \n",
    "        feature_indexer,\n",
    "        assembler, \n",
    "        classifier\n",
    "        ]\n",
    "    )\n",
    "    \n",
    "    model = pipeline.fit(trainingData)\n",
    "    predictions = model.transform(testData)\n",
    "\n",
    "    accuracy = evaluator.evaluate(predictions)\n",
    "    results.append((classifier.__class__.__name__, accuracy))"
   ]
  },
  {
   "cell_type": "code",
   "execution_count": 27,
   "metadata": {},
   "outputs": [
    {
     "name": "stdout",
     "output_type": "stream",
     "text": [
      "                    Model  Accuracy\n",
      "0      LogisticRegression  0.864901\n",
      "1  RandomForestClassifier  0.833479\n"
     ]
    }
   ],
   "source": [
    "results_df = pd.DataFrame(results, columns=[\"Model\", \"Accuracy\"])\n",
    "print(results_df)"
   ]
  },
  {
   "attachments": {},
   "cell_type": "markdown",
   "metadata": {},
   "source": [
    "Well done, both the logistic regression and the random forest give good and close values."
   ]
  },
  {
   "cell_type": "code",
   "execution_count": 28,
   "metadata": {},
   "outputs": [],
   "source": [
    "# Close SparkSession\n",
    "spark.stop()"
   ]
  }
 ],
 "metadata": {
  "kernelspec": {
   "display_name": "Python 3",
   "language": "python",
   "name": "python3"
  },
  "language_info": {
   "codemirror_mode": {
    "name": "ipython",
    "version": 3
   },
   "file_extension": ".py",
   "mimetype": "text/x-python",
   "name": "python",
   "nbconvert_exporter": "python",
   "pygments_lexer": "ipython3",
   "version": "3.10.11"
  },
  "orig_nbformat": 4
 },
 "nbformat": 4,
 "nbformat_minor": 2
}
